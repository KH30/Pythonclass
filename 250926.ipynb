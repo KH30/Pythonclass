{
 "cells": [
  {
   "cell_type": "code",
   "execution_count": 3,
   "id": "cc05b7fc-4458-45fd-94e9-8532091b9dc2",
   "metadata": {},
   "outputs": [
    {
     "name": "stdin",
     "output_type": "stream",
     "text": [
      "숫자를 입력하세요:ㅣ  3\n"
     ]
    },
    {
     "name": "stdout",
     "output_type": "stream",
     "text": [
      "홀수입니다.\n"
     ]
    }
   ],
   "source": [
    "num = int(input(\"숫자를 입력하세요: \"))\n",
    "\n",
    "if num % 2 == 0:\n",
    "    print(\"짝수입니다.\")\n",
    "else :\n",
    "    print(\"홀수입니다.\")\n",
    "    "
   ]
  },
  {
   "cell_type": "code",
   "execution_count": 10,
   "id": "e169b6b5-aafb-497f-aca8-7debc84fa2c1",
   "metadata": {},
   "outputs": [
    {
     "name": "stdin",
     "output_type": "stream",
     "text": [
      "첫 번째 학생의 키를 입력하세요:  14\n",
      "두 번째 학생의 키를 입력하세요:  12\n"
     ]
    },
    {
     "name": "stdout",
     "output_type": "stream",
     "text": [
      "두 학생의 키 차이는 2 입니다.\n"
     ]
    }
   ],
   "source": [
    "height1 = int(input(\"첫 번째 학생의 키를 입력하세요: \"))\n",
    "height2 = int(input(\"두 번째 학생의 키를 입력하세요: \"))\n",
    "\n",
    "if height1 > height2:\n",
    "    diff = height1 - height2\n",
    "\n",
    "else:\n",
    "    diff = height2 - height1\n",
    "print(\"두 학생의 키 차이는\", diff, \"입니다.\")\n"
   ]
  },
  {
   "cell_type": "code",
   "execution_count": 11,
   "id": "bbeacafc-4314-44ae-9e81-9ae35e177f93",
   "metadata": {},
   "outputs": [
    {
     "name": "stdin",
     "output_type": "stream",
     "text": [
      "나이를입력하세요:  24\n"
     ]
    },
    {
     "name": "stdout",
     "output_type": "stream",
     "text": [
      "입장료는 5000 원입니다. \n"
     ]
    }
   ],
   "source": [
    "age = int(input(\"나이를입력하세요: \"))\n",
    "fee = 5000\n",
    "\n",
    "if age < 8 or age >= 65:\n",
    "    fee = 0\n",
    "elif age >= 8 and age < 14:\n",
    "    fee = fee * 0.75\n",
    "else :\n",
    "    fee = fee\n",
    "\n",
    "print(\"입장료는\", int(fee), \"원입니다. \")"
   ]
  },
  {
   "cell_type": "code",
   "execution_count": 19,
   "id": "bf7d393b-596e-4ab1-8dbc-01527226f2ae",
   "metadata": {},
   "outputs": [
    {
     "ename": "SyntaxError",
     "evalue": "invalid syntax (3582532018.py, line 5)",
     "output_type": "error",
     "traceback": [
      "  \u001b[36mCell\u001b[39m\u001b[36m \u001b[39m\u001b[32mIn[19]\u001b[39m\u001b[32m, line 5\u001b[39m\n\u001b[31m    \u001b[39m\u001b[31melse:\u001b[39m\n    ^\n\u001b[31mSyntaxError\u001b[39m\u001b[31m:\u001b[39m invalid syntax\n"
     ]
    }
   ],
   "source": [
    "score = int(input(\"점수를 입력하세요. :\"))\n",
    "\n",
    "if score > 100 or score < 0:\n",
    "    print(\"0과 100사이의 숫자를 입력하세요.\")\n",
    "    else:\n",
    "        if score >= 90:\n",
    "            print(\"A\")\n",
    "        elif score < 90 and score >=70:\n",
    "            print(\"B\")\n",
    "        elif score < 70 and score >=60:\n",
    "            print(\"C\")\n",
    "        else :\n",
    "            print(\"D\")\n"
   ]
  },
  {
   "cell_type": "code",
   "execution_count": 21,
   "id": "0b76a928-bd9f-4a75-8f2a-affd3073cd5f",
   "metadata": {},
   "outputs": [
    {
     "name": "stdout",
     "output_type": "stream",
     "text": [
      "1부터 5까지의 합은 15 입니다.\n"
     ]
    }
   ],
   "source": [
    "sum = 0 # \n",
    "for a in range(1, 6):\n",
    "    sum = sum + a\n",
    "print(\"1부터 5까지의 합은\", sum, \"입니다.\")"
   ]
  },
  {
   "cell_type": "code",
   "execution_count": 23,
   "id": "941873c4-19fb-4301-aca2-fcb6b8963fe5",
   "metadata": {},
   "outputs": [
    {
     "name": "stdout",
     "output_type": "stream",
     "text": [
      "홀수의합은 2500 입니다.\n",
      "짝수의합은 2550 입니다.\n"
     ]
    }
   ],
   "source": [
    "oddsum = 0\n",
    "evensum = 0\n",
    "for a in range(1, 101):\n",
    "    if a % 2 == 0:\n",
    "        evensum = evensum + a\n",
    "    else :\n",
    "        oddsum = oddsum + a\n",
    "print(\"홀수의합은\", oddsum, \"입니다.\") \n",
    "print(\"짝수의합은\", evensum, \"입니다.\")"
   ]
  },
  {
   "cell_type": "code",
   "execution_count": 24,
   "id": "3e2c131c-733f-40b9-8b5b-43d12406645f",
   "metadata": {},
   "outputs": [
    {
     "data": {
      "text/plain": [
       "2500"
      ]
     },
     "execution_count": 24,
     "metadata": {},
     "output_type": "execute_result"
    }
   ],
   "source": [
    "osum = 0\n",
    "esum = 0\n",
    "for a in range(1, 101, 2):\n",
    "    osum = osum + a\n",
    "for b in range(0, 101, 2):\n",
    "    esum = esum + a\n"
   ]
  },
  {
   "cell_type": "code",
   "execution_count": 27,
   "id": "9731e5b2-9550-4100-9bf2-433c3c328bec",
   "metadata": {},
   "outputs": [
    {
     "name": "stdout",
     "output_type": "stream",
     "text": [
      "총 33 일이 걸립니다.\n"
     ]
    }
   ],
   "source": [
    "ssum = 0\n",
    "money = 100\n",
    "day = 1\n",
    "\n",
    "while ssum < 50000:\n",
    "    ssum = ssum + money\n",
    "    money = money + 100\n",
    "    day = day + 1\n",
    "\n",
    "print(\"총\", day, \"일이 걸립니다.\")\n"
   ]
  },
  {
   "cell_type": "code",
   "execution_count": 31,
   "id": "e758ef6f-bd16-4f80-bdde-3329785a8f70",
   "metadata": {},
   "outputs": [
    {
     "name": "stdin",
     "output_type": "stream",
     "text": [
      "숫자를 입력하세요. 41\n"
     ]
    },
    {
     "ename": "TypeError",
     "evalue": "unsupported operand type(s) for +: 'int' and 'str'",
     "output_type": "error",
     "traceback": [
      "\u001b[31m---------------------------------------------------------------------------\u001b[39m",
      "\u001b[31mTypeError\u001b[39m                                 Traceback (most recent call last)",
      "\u001b[36mCell\u001b[39m\u001b[36m \u001b[39m\u001b[32mIn[31]\u001b[39m\u001b[32m, line 8\u001b[39m\n\u001b[32m      5\u001b[39m pp = \u001b[38;5;28minput\u001b[39m(\u001b[33m\"\u001b[39m\u001b[33m숫자를 입력하세요.\u001b[39m\u001b[33m\"\u001b[39m)\n\u001b[32m      7\u001b[39m \u001b[38;5;28;01mwhile\u001b[39;00m pp != \u001b[32m0\u001b[39m:\n\u001b[32m----> \u001b[39m\u001b[32m8\u001b[39m     \u001b[38;5;28msum\u001b[39m = \u001b[38;5;28;43msum\u001b[39;49m\u001b[43m \u001b[49m\u001b[43m+\u001b[49m\u001b[43m \u001b[49m\u001b[43mpp\u001b[49m\n\u001b[32m      9\u001b[39m     pp = \u001b[38;5;28minput\u001b[39m(\u001b[33m\"\u001b[39m\u001b[33m숫자를 입력하세요>\u001b[39m\u001b[33m\"\u001b[39m)\n\u001b[32m     11\u001b[39m \u001b[38;5;28mprint\u001b[39m(\u001b[33m\"\u001b[39m\u001b[33m총합은\u001b[39m\u001b[33m\"\u001b[39m, \u001b[38;5;28msum\u001b[39m, \u001b[33m\"\u001b[39m\u001b[33m입니다.\u001b[39m\u001b[33m\"\u001b[39m)\n",
      "\u001b[31mTypeError\u001b[39m: unsupported operand type(s) for +: 'int' and 'str'"
     ]
    }
   ],
   "source": [
    "# 숫자를 입력받아서 총 합을 구해야함\n",
    "\n",
    "\n",
    "sum = 0\n",
    "pp = int(input(\"숫자를 입력하세요.\"))\n",
    "\n",
    "while pp != 0:\n",
    "    sum = sum + pp\n",
    "    pp = int(input(\"숫자를 입력하세요>\"))\n",
    "\n",
    "print(\"총합은\", sum, \"입니다.\")\n",
    "\n",
    "\n",
    "    "
   ]
  }
 ],
 "metadata": {
  "kernelspec": {
   "display_name": "Python 3 (ipykernel)",
   "language": "python",
   "name": "python3"
  },
  "language_info": {
   "codemirror_mode": {
    "name": "ipython",
    "version": 3
   },
   "file_extension": ".py",
   "mimetype": "text/x-python",
   "name": "python",
   "nbconvert_exporter": "python",
   "pygments_lexer": "ipython3",
   "version": "3.12.6"
  }
 },
 "nbformat": 4,
 "nbformat_minor": 5
}
